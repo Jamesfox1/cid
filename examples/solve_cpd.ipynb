{
 "cells": [
  {
   "cell_type": "code",
   "execution_count": 1,
   "metadata": {},
   "outputs": [
    {
     "name": "stdout",
     "output_type": "stream",
     "text": [
      "Automatic pdb calling has been turned ON\n"
     ]
    }
   ],
   "source": [
    "%load_ext autoreload\n",
    "%autoreload 2\n",
    "%pdb\n",
    "import sys\n",
    "sys.path.append(\"..\") #TODO: make /cid a package, then delete this\n",
    "import numpy as np\n",
    "from pgmpy.factors.discrete import TabularCPD\n",
    "from cid import CID, NullCPD, get_minimal_cid, get_3node_cid, get_insufficient_recall_cid\n",
    "#from pgmpy.inference.ExactInference import BeliefPropagation"
   ]
  },
  {
   "cell_type": "code",
   "execution_count": 2,
   "metadata": {},
   "outputs": [
    {
     "data": {
      "text/plain": [
       "True"
      ]
     },
     "execution_count": 2,
     "metadata": {},
     "output_type": "execute_result"
    }
   ],
   "source": [
    "#cid = get_minimal_cid()\n",
    "cid = get_3node_cid()\n",
    "cid.check_sufficient_recall()"
   ]
  },
  {
   "cell_type": "code",
   "execution_count": 3,
   "metadata": {},
   "outputs": [
    {
     "name": "stderr",
     "output_type": "stream",
     "text": [
      "WARNING:root:Replacing existing CPD for A\n",
      "WARNING:root:Replacing existing CPD for B\n",
      "0it [00:00, ?it/s]\n",
      "WARNING:root:Replacing existing CPD for A\n",
      "WARNING:root:Replacing existing CPD for B\n",
      "0it [00:00, ?it/s]\n",
      "WARNING:root:Replacing existing CPD for A\n",
      "WARNING:root:Replacing existing CPD for B\n",
      "0it [00:00, ?it/s]\n",
      "WARNING:root:Replacing existing CPD for A\n",
      "WARNING:root:Replacing existing CPD for B\n",
      "0it [00:00, ?it/s]\n",
      "WARNING:root:Replacing existing CPD for B\n",
      "WARNING:root:Replacing existing CPD for A\n",
      "/home/ryan/anaconda3/lib/python3.7/site-packages/pgmpy/factors/discrete/DiscreteFactor.py:697: RuntimeWarning: invalid value encountered in true_divide\n",
      "  phi.values = phi.values / phi1.values\n",
      "Eliminating: B: 100%|██████████| 1/1 [00:00<00:00, 1690.57it/s]\n",
      "WARNING:root:Replacing existing CPD for A\n",
      "Eliminating: B: 100%|██████████| 1/1 [00:00<00:00, 1104.05it/s]\n",
      "WARNING:root:Replacing existing CPD for A\n"
     ]
    },
    {
     "data": {
      "text/plain": [
       "{'B': <TabularCPD representing P(B:2 | A:2) at 0x7f8ebc12e7f0>,\n",
       " 'A': <TabularCPD representing P(A:2) at 0x7f8ebc0c3f98>}"
      ]
     },
     "execution_count": 3,
     "metadata": {},
     "output_type": "execute_result"
    }
   ],
   "source": [
    "cid.solve()"
   ]
  },
  {
   "cell_type": "code",
   "execution_count": null,
   "metadata": {},
   "outputs": [],
   "source": []
  },
  {
   "cell_type": "code",
   "execution_count": null,
   "metadata": {},
   "outputs": [],
   "source": [
    "cid.get_parents('B')"
   ]
  },
  {
   "cell_type": "code",
   "execution_count": null,
   "metadata": {},
   "outputs": [],
   "source": [
    "import networkx as nx\n",
    "import pylab as plt\n",
    "nx.draw(cid, with_labels=True)\n",
    "plt.show()"
   ]
  },
  {
   "cell_type": "code",
   "execution_count": null,
   "metadata": {},
   "outputs": [],
   "source": [
    "cid = get_insufficient_recall_cid()"
   ]
  },
  {
   "cell_type": "code",
   "execution_count": null,
   "metadata": {},
   "outputs": [],
   "source": [
    "cid.check_sufficient_recall()"
   ]
  }
 ],
 "metadata": {
  "kernelspec": {
   "display_name": "Python 3",
   "language": "python",
   "name": "python3"
  },
  "language_info": {
   "codemirror_mode": {
    "name": "ipython",
    "version": 3
   },
   "file_extension": ".py",
   "mimetype": "text/x-python",
   "name": "python",
   "nbconvert_exporter": "python",
   "pygments_lexer": "ipython3",
   "version": "3.7.3"
  }
 },
 "nbformat": 4,
 "nbformat_minor": 2
}
